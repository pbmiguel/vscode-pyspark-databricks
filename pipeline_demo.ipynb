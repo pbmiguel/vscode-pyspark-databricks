{
 "cells": [
  {
   "cell_type": "code",
   "execution_count": 27,
   "metadata": {},
   "outputs": [
    {
     "name": "stdout",
     "output_type": "stream",
     "text": [
      "+----------------+\n",
      "|features        |\n",
      "+----------------+\n",
      "|[200.0,15.0,1.0]|\n",
      "|[2.0,500.0,2.0] |\n",
      "+----------------+\n",
      "\n"
     ]
    }
   ],
   "source": [
    "from pyspark.ml.pipeline import PipelineModel\n",
    "from pyspark.sql import SparkSession\n",
    "\n",
    "# Initialize a SparkSession\n",
    "spark = SparkSession.builder \\\n",
    "    .appName(\"Mock PySpark DataFrame\") \\\n",
    "    .getOrCreate()\n",
    "\n",
    "# Load the pipeline model\n",
    "loaded_pipeline_model = PipelineModel.load(\"product_info_pipeline\")\n",
    "\n",
    "# Create a test DataFrame\n",
    "test_data = [\n",
    "    (200.0, \"Furniture\", 15),\n",
    "    (2.0, \"Stationery\", 500)\n",
    "]\n",
    "test_columns = [\"price\", \"category\", \"stock\"]\n",
    "test_df = spark.createDataFrame(test_data, test_columns)\n",
    "\n",
    "# Transform the test data using the loaded pipeline model\n",
    "transformed_test_df = loaded_pipeline_model.transform(test_df)\n",
    "\n",
    "# Show the resulting DataFrame\n",
    "transformed_test_df.select(\"features\").show(truncate=False)"
   ]
  },
  {
   "cell_type": "code",
   "execution_count": 28,
   "metadata": {},
   "outputs": [
    {
     "data": {
      "text/plain": [
       "[(200.0, 'Furniture', 15), (2.0, 'Stationery', 500)]"
      ]
     },
     "execution_count": 28,
     "metadata": {},
     "output_type": "execute_result"
    }
   ],
   "source": [
    "test_data"
   ]
  },
  {
   "cell_type": "code",
   "execution_count": 6,
   "metadata": {},
   "outputs": [
    {
     "data": {
      "text/plain": [
       "StringIndexerModel: uid=StringIndexer_a542918f3da0, handleInvalid=error"
      ]
     },
     "execution_count": 6,
     "metadata": {},
     "output_type": "execute_result"
    }
   ],
   "source": [
    "loaded_pipeline_model.stages[0]"
   ]
  },
  {
   "cell_type": "code",
   "execution_count": 7,
   "metadata": {},
   "outputs": [
    {
     "data": {
      "text/plain": [
       "VectorAssembler_b33983c177b7"
      ]
     },
     "execution_count": 7,
     "metadata": {},
     "output_type": "execute_result"
    }
   ],
   "source": [
    "loaded_pipeline_model.stages[1]"
   ]
  },
  {
   "cell_type": "code",
   "execution_count": 11,
   "metadata": {},
   "outputs": [
    {
     "data": {
      "text/plain": [
       "'category'"
      ]
     },
     "execution_count": 11,
     "metadata": {},
     "output_type": "execute_result"
    }
   ],
   "source": [
    "loaded_pipeline_model.stages[0].getInputCol()"
   ]
  },
  {
   "cell_type": "code",
   "execution_count": 8,
   "metadata": {},
   "outputs": [
    {
     "data": {
      "text/plain": [
       "[('Electronics', 'Furniture', 'Stationery')]"
      ]
     },
     "execution_count": 8,
     "metadata": {},
     "output_type": "execute_result"
    }
   ],
   "source": [
    "labelsArray = loaded_pipeline_model.stages[0].labelsArray\n",
    "labelsArray"
   ]
  },
  {
   "cell_type": "code",
   "execution_count": 9,
   "metadata": {},
   "outputs": [
    {
     "data": {
      "text/plain": [
       "['price', 'stock', 'category_index']"
      ]
     },
     "execution_count": 9,
     "metadata": {},
     "output_type": "execute_result"
    }
   ],
   "source": [
    "loaded_pipeline_model.stages[1].getInputCols()"
   ]
  },
  {
   "cell_type": "code",
   "execution_count": 33,
   "metadata": {},
   "outputs": [
    {
     "name": "stdout",
     "output_type": "stream",
     "text": [
      "Features:\n",
      " [[200.  15.   1.]\n",
      " [  2. 500.   2.]]\n"
     ]
    }
   ],
   "source": [
    "import numpy as np\n",
    "\n",
    "# Extract the StringIndexer metadata\n",
    "string_indexer_metadata = loaded_pipeline_model.stages[0].labelsArray\n",
    "\n",
    "# Create a mapping from category to index\n",
    "category_to_index = {label: index for index, label in enumerate(string_indexer_metadata[0])}\n",
    "\n",
    "# Convert test_data to numpy array\n",
    "test_data_np = np.array(test_data)\n",
    "\n",
    "# Map the category column to indices\n",
    "category_indices = np.array([category_to_index[category] for category in test_data_np[:, 1]])\n",
    "\n",
    "# Combine all features into a single numpy array\n",
    "features = np.column_stack((test_data_np[:, 0].astype(float),  # price\n",
    "                            test_data_np[:, 2].astype(float),  # stock\n",
    "                            category_indices.astype(float)     # category index\n",
    "                            )) \n",
    "\n",
    "print(\"Features:\\n\", features)\n"
   ]
  }
 ],
 "metadata": {
  "language_info": {
   "name": "python"
  }
 },
 "nbformat": 4,
 "nbformat_minor": 2
}
